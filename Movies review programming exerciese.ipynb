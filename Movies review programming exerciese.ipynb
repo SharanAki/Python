{
 "cells": [
  {
   "cell_type": "code",
   "execution_count": 1,
   "metadata": {},
   "outputs": [],
   "source": [
    "import pandas as pd\n",
    "\n",
    "# Load u.data file which contains the ratings data\n",
    "ratings_df = pd.read_table('http://files.grouplens.org/datasets/movielens/ml-100k/u.data', sep='\\t', names=['user_id', 'item_id', 'rating', 'timestamp'])\n",
    "\n",
    "# Load u.user file which contains the user information\n",
    "users_df = pd.read_table('http://files.grouplens.org/datasets/movielens/ml-100k/u.user', sep='|', names=['user_id', 'age', 'gender', 'occupation', 'zip_code'])\n"
   ]
  },
  {
   "cell_type": "code",
   "execution_count": 2,
   "metadata": {},
   "outputs": [],
   "source": [
    "# Merge ratings_df and users_df on 'user_id'\n",
    "merged_df = pd.merge(ratings_df, users_df, on='user_id', how='inner')\n"
   ]
  },
  {
   "cell_type": "code",
   "execution_count": 3,
   "metadata": {},
   "outputs": [],
   "source": [
    "# Filter for males and females separately\n",
    "males_df = merged_df.query(\"gender == 'M'\")\n",
    "females_df = merged_df.query(\"gender == 'F'\")\n"
   ]
  },
  {
   "cell_type": "code",
   "execution_count": 4,
   "metadata": {},
   "outputs": [],
   "source": [
    "import numpy as np\n",
    "\n",
    "# Calculate standard deviation for males and females\n",
    "males_std = np.std(males_df['rating'])\n",
    "females_std = np.std(females_df['rating'])\n"
   ]
  },
  {
   "cell_type": "code",
   "execution_count": 5,
   "metadata": {},
   "outputs": [
    {
     "name": "stdout",
     "output_type": "stream",
     "text": [
      "Standard Deviation of Males' User Scores:  1.1095483079139883\n",
      "Standard Deviation of Females' User Scores:  1.1709287369337942\n"
     ]
    }
   ],
   "source": [
    "print(\"Standard Deviation of Males' User Scores: \", males_std)\n",
    "print(\"Standard Deviation of Females' User Scores: \", females_std)\n"
   ]
  }
 ],
 "metadata": {
  "kernelspec": {
   "display_name": "Python 3",
   "language": "python",
   "name": "python3"
  },
  "language_info": {
   "codemirror_mode": {
    "name": "ipython",
    "version": 3
   },
   "file_extension": ".py",
   "mimetype": "text/x-python",
   "name": "python",
   "nbconvert_exporter": "python",
   "pygments_lexer": "ipython3",
   "version": "3.9.13"
  },
  "orig_nbformat": 4
 },
 "nbformat": 4,
 "nbformat_minor": 2
}
