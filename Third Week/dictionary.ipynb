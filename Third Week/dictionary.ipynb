{
 "cells": [
  {
   "attachments": {},
   "cell_type": "markdown",
   "metadata": {},
   "source": [
    "<h1 style = \"Color : Green\"> Dictionary"
   ]
  },
  {
   "cell_type": "code",
   "execution_count": 1,
   "metadata": {},
   "outputs": [
    {
     "name": "stdout",
     "output_type": "stream",
     "text": [
      "3000\n"
     ]
    }
   ],
   "source": [
    "names = ['Aakarsh','Sharan','Krishna','Shiva']\n",
    "salaries = [3000,2000,1000,4000]\n",
    "print(salaries[names.index('Aakarsh')])"
   ]
  },
  {
   "cell_type": "code",
   "execution_count": 4,
   "metadata": {},
   "outputs": [
    {
     "name": "stdout",
     "output_type": "stream",
     "text": [
      "{'Aakarsh': 2000, 'Krishna': 4000, 'Shiva': 50000}\n"
     ]
    }
   ],
   "source": [
    "#Make a dictionary list\n",
    "namsal = dict(Aakarsh =2000,Krishna=4000,Shiva= 50000)\n",
    "print(namsal)"
   ]
  },
  {
   "cell_type": "code",
   "execution_count": 7,
   "metadata": {},
   "outputs": [
    {
     "name": "stdout",
     "output_type": "stream",
     "text": [
      "{'Aakarsh': 3000, 'Sharan': 3000, 'Krishna': 3000, 'Shiva': 3000}\n"
     ]
    },
    {
     "data": {
      "text/plain": [
       "['Aakarsh', 'Krishna', 'Sharan', 'Shiva']"
      ]
     },
     "execution_count": 7,
     "metadata": {},
     "output_type": "execute_result"
    }
   ],
   "source": [
    "# Default value of salary to be 3009 in dictionary\n",
    "dicta = {}.fromkeys(('Aakarsh','Sharan','Krishna','Shiva'),3000)\n",
    "print(dicta)\n",
    "sorted(dicta)"
   ]
  },
  {
   "cell_type": "code",
   "execution_count": 8,
   "metadata": {},
   "outputs": [
    {
     "data": {
      "text/plain": [
       "{'Aakarsh': 2000, 'Krishna': 3000, 'Shiva': 4000}"
      ]
     },
     "execution_count": 8,
     "metadata": {},
     "output_type": "execute_result"
    }
   ],
   "source": [
    "#generate dictionary\n",
    "name = ['Aakarsh','Krishna','Shiva']\n",
    "salaries = [2000,3000,4000]\n",
    "dict(zip(name,salaries))"
   ]
  },
  {
   "cell_type": "code",
   "execution_count": 14,
   "metadata": {},
   "outputs": [
    {
     "name": "stdout",
     "output_type": "stream",
     "text": [
      "{'AXP': '78.51', 'BA': '184.76', 'CAT': '96.39', 'CSCO': '33.71', 'CVX': '106.09'}\n",
      "{'AXP': '78.51', 'BA': '184.76', 'CAT': '96.39', 'CSCO': '33.71', 'CVX': '106.09'}\n",
      "5\n"
     ]
    }
   ],
   "source": [
    "#How to generate a dictonary of company code and stock price from data?\n",
    "f = [('AXP', 'American Express Company', '78.51'),\n",
    "('BA', 'The Boeing Company', '184.76'),\n",
    "('CAT', 'Caterpillar Inc.', '96.39'),\n",
    "('CSCO', 'Cisco Systems,Inc.', '33.71'),\n",
    "('CVX', 'Chevron Corporation', '106.09')]\n",
    "\n",
    "#Solution\n",
    "u =dict((x[0],x[2]) for x in f)\n",
    "print(u)\n",
    "\n",
    "a1 =[]\n",
    "b1 =[]\n",
    "\n",
    "for x in range(len(f)):\n",
    "    a = f[x][0]\n",
    "    b = f[x][2]\n",
    "    a1.append(a)\n",
    "    b1.append(b)\n",
    "adict = dict(zip(a1,b1))\n",
    "print(adict)\n",
    "\n",
    "print(len(f))\n"
   ]
  }
 ],
 "metadata": {
  "kernelspec": {
   "display_name": "Python 3",
   "language": "python",
   "name": "python3"
  },
  "language_info": {
   "codemirror_mode": {
    "name": "ipython",
    "version": 3
   },
   "file_extension": ".py",
   "mimetype": "text/x-python",
   "name": "python",
   "nbconvert_exporter": "python",
   "pygments_lexer": "ipython3",
   "version": "3.9.13"
  },
  "orig_nbformat": 4,
  "vscode": {
   "interpreter": {
    "hash": "c4bb1ae6d763fbad0d57a28c9a072db53493e05f8095e6d804c8875c1f9d98ec"
   }
  }
 },
 "nbformat": 4,
 "nbformat_minor": 2
}
