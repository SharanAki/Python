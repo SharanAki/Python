{
 "cells": [
  {
   "cell_type": "code",
   "execution_count": 4,
   "metadata": {},
   "outputs": [
    {
     "name": "stdout",
     "output_type": "stream",
     "text": [
      "{}\n",
      "1. Create a new account\n",
      "2. Login\n",
      "3. Exit\n",
      "Invalid input!\n",
      "1. Create a new account\n",
      "2. Login\n",
      "3. Exit\n"
     ]
    }
   ],
   "source": [
    "# Use dictionary to create a user information(including username and password) management system. New user can create an account if it doesn’t conflict with any existing one while exisiting user can return to the system using his username and password. A suggested outline of the program is as below:\n",
    "\n",
    "# 1. Create a dictionary to store username and password\n",
    "# 2. Create a function to create a new account\n",
    "# 3. Create a function to login\n",
    "\n",
    "#python code\n",
    "\n",
    "\n",
    "# 1. Create a dictionary to store username and password\n",
    "user_info = {}\n",
    "print(user_info)\n",
    "\n",
    "# 2. Create a function to create a new account\n",
    "def create_account():\n",
    "    username = input(\"Please enter your username: \")\n",
    "    password = input(\"Please enter your password: \")\n",
    "    user_info[username] = password\n",
    "    print(\"Account created successfully!\")\n",
    "    \n",
    "# 3. Create a function to login\n",
    "def login():\n",
    "    username = input(\"Please enter your username: \")\n",
    "    password = input(\"Please enter your password: \")\n",
    "    if username in user_info:\n",
    "        if user_info[username] == password:\n",
    "            print(\"Login successfully!\")\n",
    "        else:\n",
    "            print(\"Wrong password!\")\n",
    "    else:\n",
    "        print(\"User does not exist!\")\n",
    "    \n",
    "        \n",
    "# 4. Create a main function\n",
    "def main():\n",
    "    while True:\n",
    "        print(\"1. Create a new account\")\n",
    "        print(\"2. Login\")\n",
    "        print(\"3. Exit\")\n",
    "        choice = input(\"Please enter your choice: \")\n",
    "        if choice == \"1\":\n",
    "            create_account()\n",
    "        elif choice == \"2\":\n",
    "            login()\n",
    "        elif choice == \"3\":\n",
    "            break\n",
    "        else:\n",
    "            print(\"Invalid input!\")\n",
    "            \n",
    "# 5. Call the main function\n",
    "main()\n"
   ]
  },
  {
   "cell_type": "code",
   "execution_count": 6,
   "metadata": {},
   "outputs": [],
   "source": [
    "system = {} #database system\n",
    "\n",
    "def newusers():\n",
    "    uname= input(\"Enter a username: \")\n",
    "    if uname in system:\n",
    "        print(\"User already exit: Create new user\")\n",
    "    else:\n",
    "        pw = input(\"Enter password: \")\n",
    "        system[uname] = pw\n",
    "        print(\"\\nUser created: welcome to the network\")\n",
    "        \n",
    "#login for old users      \n",
    "def oldusers():\n",
    "    uname = input(\"Enter your username:\")\n",
    "    pw = input(\"Enter your password: \")\n",
    "    if uname in system and system[uname] == pw:\n",
    "        print(uname, 'Welcome back')\n",
    "    else:\n",
    "        print('Login incorrect')\n",
    "        \n",
    "\n",
    "#login\n",
    "def login():\n",
    "    #option = {'New': 1, 'Old': 2, 'Exit': 3}\n",
    "    option = input(\"Enter an option: N --> New User, O-->OldUser,E-->Exit \")\n",
    "    if option == \"N\":\n",
    "        newusers()\n",
    "    elif option == \"O\":\n",
    "        oldusers()\n",
    "    elif option == \"E\":\n",
    "        exit\n",
    "                \n",
    "#we call the main function\n",
    "if __name__ == \"__main__\":\n",
    "    login()"
   ]
  },
  {
   "attachments": {},
   "cell_type": "markdown",
   "metadata": {},
   "source": [
    "1. Define the function twonums_sum(n, lst) to find whether there is a sum of two numbers equal to n in the list of lst, if any, return a subscript of two numbers, otherwise return -1. For an ordered list that does not contain duplicate numbers [1, 4, 5, 6, 7, 8, 9, 10, 11, 12, 13, 15, 18, 19, 20, 21, 29, 34, 54, 65 ], input n from the keyboard, call the function of twonums_sum() to output the subscripts of the two numbers that satisfy the condition (you only need to find one set and ensure one of them to be as small as possible), and output \"not found\" if all the numbers do not satisfy the condition.\n",
    "\n",
    "2. Define the function findNumFriends(s) to calculate the sum of all the numerical strings contained in s, and find numeric friend groups which having the same sum to the same list. The elements in each list need to be stored by the orders of this strings and the lists need to be stored by the sum of each element in the list. Call the function of findNumFriends(s) and output all the numeric friend groups by order."
   ]
  },
  {
   "cell_type": "code",
   "execution_count": 9,
   "metadata": {},
   "outputs": [
    {
     "name": "stdout",
     "output_type": "stream",
     "text": [
      "(1, 8)\n"
     ]
    }
   ],
   "source": [
    "# 1\n",
    "def twonums_sum(n, lst):\n",
    "     d = {}\n",
    "     for i in range(len(lst)):\n",
    "          d[lst[i]] = i    # create number-subscript pair\n",
    "     for i in range(len(lst)):\n",
    "          if n - lst[i] in d:\n",
    "               return i, d[n-lst[i]]             \n",
    "     return -1\n",
    "\n",
    "\n",
    "lst = [1, 4, 5, 6, 7, 8, 9, 10, 11, 12, 13, 15, 18, 19, 20, 21, 29, 34, 54, 65]\n",
    "n = int(input())\n",
    "result = twonums_sum(n, lst)\n",
    "if result == -1:\n",
    "    print(\"not found\")\n",
    "else:\n",
    "    print(result)\n",
    "    \n",
    "def twonums(n, lst):\n",
    "    for x in range(1, n):\n",
    "        if x in lst and n-x in lst:\n",
    "            return lst.index(x), lst.index(n-x)\n",
    "    return -1\n"
   ]
  },
  {
   "cell_type": "code",
   "execution_count": 12,
   "metadata": {},
   "outputs": [
    {
     "name": "stdout",
     "output_type": "stream",
     "text": [
      "['123']\n"
     ]
    }
   ],
   "source": [
    "def findNumFriends(s):\n",
    "   s = s.split(',')\n",
    "   d, result = {}, []\n",
    "   for num in s: \n",
    "      sumNum = sum(map(int, num))   # calculate the sum of the digits of each string\n",
    "      d[sumNum] = d.get(sumNum, []) + [num]  # find the numeric friend groups with the same sum\n",
    "      # sort by the sum\n",
    "      lst = sorted(d.items())   # key = lambda d:d[0] is the default\n",
    "      result = map(sorted, [x[1] for x in lst])\n",
    "      return result\n",
    "\n",
    "if __name__ == \"__main__\":\n",
    "    s = input(\"Enter the numbers: \")\n",
    "    result = findNumFriends(s)\n",
    "    print(*result, sep='\\n')    # *result for unpacking the object"
   ]
  }
 ],
 "metadata": {
  "kernelspec": {
   "display_name": "Python 3",
   "language": "python",
   "name": "python3"
  },
  "language_info": {
   "codemirror_mode": {
    "name": "ipython",
    "version": 3
   },
   "file_extension": ".py",
   "mimetype": "text/x-python",
   "name": "python",
   "nbconvert_exporter": "python",
   "pygments_lexer": "ipython3",
   "version": "3.9.13"
  },
  "orig_nbformat": 4,
  "vscode": {
   "interpreter": {
    "hash": "c4bb1ae6d763fbad0d57a28c9a072db53493e05f8095e6d804c8875c1f9d98ec"
   }
  }
 },
 "nbformat": 4,
 "nbformat_minor": 2
}
