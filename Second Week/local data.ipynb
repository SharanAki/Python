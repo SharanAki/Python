{
 "cells": [
  {
   "cell_type": "code",
   "execution_count": 2,
   "metadata": {},
   "outputs": [
    {
     "name": "stdout",
     "output_type": "stream",
     "text": [
      "O were my love yon Lilac fair,  \n",
      "  Wi' purple blossoms to the Spring,\n",
      "And I, a bird to shelter there,  \n",
      "  When wearied on my little wing!\n",
      "How I wad mourn when it was torn         \n",
      "  By Autumn wild, and Winter rude!\n",
      "But I wad sing on wanton wing,  \n",
      "  When youthfu' May its bloom renew'd. \n",
      "O gin my love were yon red rose,  \n",
      "  That grows upon the castle wa';    \n",
      "And I myself a drap o' dew,  \n",
      "  Into her bonie breast to fa'!\n",
      "O there, beyond expression blest,  \n",
      "  I'd feast on beauty a' the night;\n",
      "Seal'd on her silk-saft faulds to rest,\n",
      "  Till fley'd awa by Phoebus' light!\n"
     ]
    }
   ],
   "source": [
    "with open('D:\\PythonRepo\\Second Week\\data.txt') as f:\n",
    "    print(f.read())"
   ]
  }
 ],
 "metadata": {
  "kernelspec": {
   "display_name": "Python 3",
   "language": "python",
   "name": "python3"
  },
  "language_info": {
   "codemirror_mode": {
    "name": "ipython",
    "version": 3
   },
   "file_extension": ".py",
   "mimetype": "text/x-python",
   "name": "python",
   "nbconvert_exporter": "python",
   "pygments_lexer": "ipython3",
   "version": "3.9.13"
  },
  "orig_nbformat": 4,
  "vscode": {
   "interpreter": {
    "hash": "c4bb1ae6d763fbad0d57a28c9a072db53493e05f8095e6d804c8875c1f9d98ec"
   }
  }
 },
 "nbformat": 4,
 "nbformat_minor": 2
}
