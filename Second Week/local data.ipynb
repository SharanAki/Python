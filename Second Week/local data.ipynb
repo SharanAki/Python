{
 "cells": [
  {
   "cell_type": "code",
   "execution_count": 70,
   "metadata": {},
   "outputs": [],
   "source": [
    "with open('data2.txt', 'w') as g:\n",
    "    g.write(\"GOOD MORNING\")\n"
   ]
  },
  {
   "cell_type": "code",
   "execution_count": null,
   "metadata": {},
   "outputs": [
    {
     "data": {
      "text/plain": [
       "['AAKARSH  ING']"
      ]
     },
     "metadata": {},
     "output_type": "display_data"
    }
   ],
   "source": [
    "f = open('data1.txt','r+')\n",
    "f.write(\"AAKARSH  \")\n",
    "f.close()\n",
    "f = open('data1.txt')\n",
    "f.readlines()"
   ]
  },
  {
   "cell_type": "code",
   "execution_count": 71,
   "metadata": {},
   "outputs": [
    {
     "name": "stdout",
     "output_type": "stream",
     "text": [
      "GOOD \n"
     ]
    }
   ],
   "source": [
    "with open('data2.txt') as g:\n",
    "    p1= g.read(5)\n",
    "    \n",
    "print(p1)  "
   ]
  },
  {
   "cell_type": "code",
   "execution_count": 77,
   "metadata": {},
   "outputs": [
    {
     "name": "stdout",
     "output_type": "stream",
     "text": [
      "GOOD MORNING\n",
      "Tencent Technology Company Limited\n",
      "Tencent Technology Company Limited\n",
      "Tencent Technology Company Limited\n",
      "Tencent Technology Company Limited\n",
      "Tencent Technology Company Limited\n",
      "Tencent Technology Company Limited\n"
     ]
    }
   ],
   "source": [
    "s = 'Tencent Technology Company Limited'\n",
    "\n",
    "with open('data2.txt','a+') as f:\n",
    "    f.writelines('\\n')\n",
    "    f.writelines(s)\n",
    "    \n",
    "with open('data2.txt') as f:\n",
    "    print(f.read())   \n"
   ]
  },
  {
   "cell_type": "code",
   "execution_count": 91,
   "metadata": {},
   "outputs": [
    {
     "name": "stdout",
     "output_type": "stream",
     "text": [
      "data.txt has 7 lines\n"
     ]
    }
   ],
   "source": [
    "try:\n",
    "    with open('data2.txt') as f:\n",
    "        data = f.readlines()\n",
    "except FileNotFoundError:\n",
    "    print(\"FileExistsError\")\n",
    "lens = len(data)\n",
    "print('data.txt has',lens,'lines')"
   ]
  },
  {
   "cell_type": "code",
   "execution_count": 83,
   "metadata": {},
   "outputs": [
    {
     "name": "stdout",
     "output_type": "stream",
     "text": [
      "data.txt has 16 lines\n",
      "data1.txt has 1 lines\n",
      "data2.txt has 7 lines\n"
     ]
    }
   ],
   "source": [
    "def countLines(fname):\n",
    "    try:\n",
    "        with open(fname) as f:\n",
    "            data = f.readlines()\n",
    "    except FileNotFoundError:\n",
    "        print(fname,'does not exit')\n",
    "    lens = len(data)\n",
    "    print(fname,'has',lens,'lines')\n",
    "\n",
    "files = ['data.txt','data1.txt','data2.txt']\n",
    "for file in files:\n",
    "    countLines(file)"
   ]
  }
 ],
 "metadata": {
  "kernelspec": {
   "display_name": "Python 3",
   "language": "python",
   "name": "python3"
  },
  "language_info": {
   "codemirror_mode": {
    "name": "ipython",
    "version": 3
   },
   "file_extension": ".py",
   "mimetype": "text/x-python",
   "name": "python",
   "nbconvert_exporter": "python",
   "pygments_lexer": "ipython3",
   "version": "3.9.13"
  },
  "orig_nbformat": 4,
  "vscode": {
   "interpreter": {
    "hash": "c4bb1ae6d763fbad0d57a28c9a072db53493e05f8095e6d804c8875c1f9d98ec"
   }
  }
 },
 "nbformat": 4,
 "nbformat_minor": 2
}
