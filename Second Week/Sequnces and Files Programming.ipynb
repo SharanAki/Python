{
 "cells": [
  {
   "attachments": {},
   "cell_type": "markdown",
   "metadata": {},
   "source": [
    "For the string = 'My moral standing  is: 0.98765', please extract the number string and print its float data."
   ]
  },
  {
   "cell_type": "code",
   "execution_count": 1,
   "metadata": {},
   "outputs": [
    {
     "name": "stdout",
     "output_type": "stream",
     "text": [
      "0.98765\n"
     ]
    }
   ],
   "source": [
    "string = 'My moral standing  is: 0.98765'\n",
    "moral_str = string.split(\":\")[1]\n",
    "result = float(moral_str)\n",
    "print(result)"
   ]
  },
  {
   "attachments": {},
   "cell_type": "markdown",
   "metadata": {},
   "source": [
    "Complete the function \"countchar()\" which will calculate the occurrences of each letter and output in the order of alphabetical order. For example, the output of calculating \"Hope is a good thing\" is: [1, 0, 0, 1, 1, 0, 2, 2, 2, 0, 0, 0, 0, 1, 3, 1, 0, 0, 1, 1, 0, 0, 0, 0, 0, 0]"
   ]
  },
  {
   "cell_type": "code",
   "execution_count": 2,
   "metadata": {},
   "outputs": [
    {
     "name": "stdout",
     "output_type": "stream",
     "text": [
      "[1, 0, 0, 1, 1, 0, 2, 2, 2, 0, 0, 0, 0, 1, 3, 1, 0, 0, 1, 1, 0, 0, 0, 0, 0, 0]\n"
     ]
    }
   ],
   "source": [
    "def countchar(s):\n",
    "    lst = [0] * 26\n",
    "    for i in range(len(s)):\n",
    "        if s[i] >= 'a' and s[i] <='z':  \n",
    "            lst[ord(s[i])- ord('a')] += 1\n",
    "    print(lst)\n",
    "\n",
    "if __name__ == \"__main__\":\n",
    "    s = \"Hope is a good thing.\"\n",
    "    s = s.lower()\n",
    "    countchar(s)"
   ]
  },
  {
   "attachments": {},
   "cell_type": "markdown",
   "metadata": {},
   "source": [
    "3. Input several words separated by spaces from the keyboard, arrange all words upside down and output, keep the order of words unchanged. [test data and output]  input a string: hope is a good thing the new string is: thing good a is hope"
   ]
  },
  {
   "cell_type": "code",
   "execution_count": 1,
   "metadata": {},
   "outputs": [
    {
     "name": "stdout",
     "output_type": "stream",
     "text": [
      "['Aakars', 'hasias']\n",
      "['hasias', 'Aakars']\n",
      "the new string is: hasias Aakars\n"
     ]
    }
   ],
   "source": [
    "s = input('Enter a string: ') \n",
    "s_temp = s.split() # return a list\n",
    "print(s_temp)\n",
    "s_temp.reverse()\n",
    "print(s_temp)   \n",
    "result = ' '.join(s_temp)\n",
    "print('the new string is:', result)"
   ]
  },
  {
   "attachments": {},
   "cell_type": "markdown",
   "metadata": {},
   "source": [
    "4. Define the function move_substr(s, flag, n), shifts the string s to the left or right by n (for example, for the string abcde12345, according to the requirement of flag (1 means left shift looply, 2 means right shift looply). The result of shifting two characters to the left is cde12345ab, and the result of shifting two characters to the right is 45abcde123). The result returns the moved string. If n exceeds the length of the string, the result returns -1. In the __main__ module, input the string , the left and right shift markers, and the number of digits moved. Call the move_substr() function to output the moved string if the number of movements is reasonable, otherwise output \"the n is too large\" ."
   ]
  },
  {
   "cell_type": "code",
   "execution_count": 8,
   "metadata": {},
   "outputs": [
    {
     "name": "stdout",
     "output_type": "stream",
     "text": [
      "wrwewre\n"
     ]
    }
   ],
   "source": [
    "def moveSubstr(s, flag, n):\n",
    "    if n > len(s):\n",
    "        return -1\n",
    "    else:\n",
    "        if flag == 1:\n",
    "            return s[n:] + s[:n]\n",
    "        else:\n",
    "            return s[-n:]+ s[:-n]\n",
    "\n",
    "if __name__ == \"__main__\":\n",
    "    s, flag, n = input(\"enter the 'string,flag,n': \").split(',')\n",
    "    result = moveSubstr(s, int(flag), int(n))\n",
    "    if result != -1:\n",
    "        print(result)\n",
    "    else:\n",
    "        print('the n is too large')"
   ]
  },
  {
   "attachments": {},
   "cell_type": "markdown",
   "metadata": {},
   "source": [
    "6. Use random function to generate 500 integers in the range of 1-100, store them into a file called random.txt, one number in each line. Program to find out the mode and print it ( the definition of mode is the number which appears the most times)."
   ]
  },
  {
   "cell_type": "code",
   "execution_count": 9,
   "metadata": {},
   "outputs": [],
   "source": [
    "#to print 500 random numbers between 1-100  save to text file\n",
    "import random\n",
    "import pandas as pd\n",
    "\n",
    "numbers = []\n",
    "\n",
    "for i in range(500):\n",
    "    a =(random.randint(1,100))\n",
    "    numbers.append(a)\n",
    "    \n",
    "df = pd.DataFrame(numbers)\n",
    "df.to_csv('random_numbers.txt', index=False, header=False)    \n",
    "    "
   ]
  },
  {
   "attachments": {},
   "cell_type": "markdown",
   "metadata": {},
   "source": [
    "8. Make a program（Hint: you can use insert() method of list）.\n",
    "\n",
    "(1) Create a file named \"Blowing in the wind.txt\", the content is as below:\n",
    "\n",
    ".....\n",
    "\n",
    "(2) Insert the song name “Blowin’ in the wind” into the head of the file \n",
    "\n",
    "(3) Insert the singer name “Bob Dylan” after the song name\n",
    "\n",
    "(4) add a string “1962 by Warner Bros. Inc.” into the end of the file\n",
    "\n",
    "(5) print the file"
   ]
  },
  {
   "cell_type": "code",
   "execution_count": 10,
   "metadata": {},
   "outputs": [
    {
     "name": "stdout",
     "output_type": "stream",
     "text": [
      "How many roads must a man walk down\n",
      "\n",
      "Before they call him a man\n",
      "\n",
      "How many seas must a white dove sail\n",
      "\n",
      "Before she sleeps in the sand\n",
      "\n",
      "How many times must the cannon balls fly\n",
      "\n",
      "Before they're forever banned\n",
      "\n",
      "The answer my friend is blowing in the wind\n",
      "\n",
      "The answer is blowing in the wind\n"
     ]
    }
   ],
   "source": [
    "with open('Blowing in the wind.txt', 'r') as f:\n",
    "    print(f.read())"
   ]
  },
  {
   "cell_type": "code",
   "execution_count": 16,
   "metadata": {},
   "outputs": [
    {
     "name": "stdout",
     "output_type": "stream",
     "text": [
      "Blowin' in the wind\n",
      "Bob Dylan\n",
      "\n",
      "How many roads must a man walk down\n",
      "\n",
      "Before they call him a man\n",
      "\n",
      "How many seas must a white dove sail\n",
      "\n",
      "Before she sleeps in the sand\n",
      "\n",
      "How many times must the cannon balls fly\n",
      "\n",
      "Before they're forever banned\n",
      "\n",
      "The answer my friend is blowing in the wind\n",
      "\n",
      "The answer is blowing in the wind1962 \n",
      "\n",
      "\t1962 by Warner Bros. Inc.\n"
     ]
    }
   ],
   "source": [
    "def insert_line(lines):\n",
    "    lines.insert(0, \"Blowin' in the wind\\n\")\n",
    "    lines.insert(1, \"Bob Dylan\\n\\n\")\n",
    "    lines.append(\"\\n\\t1962 by Warner Bros. Inc.\")\n",
    "    return ''.join(lines)\n",
    "\n",
    "with open('Blowing in the wind.txt', 'r+') as f:\n",
    "    lines = f.readlines()\n",
    "    string = insert_line(lines)\n",
    "    print(string)\n",
    "    f.seek(0)\n",
    "    f.write(string)"
   ]
  },
  {
   "cell_type": "code",
   "execution_count": 17,
   "metadata": {},
   "outputs": [
    {
     "name": "stdout",
     "output_type": "stream",
     "text": [
      "16\n"
     ]
    }
   ],
   "source": [
    "#If the big number 5555…5555 ( a total of 2000 digits)is divided by 84, what's the remainder(pls don't use the loop structure^_^)? \n",
    "\n",
    "def remainder():\n",
    "    a = 1\n",
    "    for i in range(2000):\n",
    "        a = a * 10 % 84\n",
    "    return a\n",
    "\n",
    "if __name__ == \"__main__\":\n",
    "    print(remainder())"
   ]
  }
 ],
 "metadata": {
  "kernelspec": {
   "display_name": "Python 3",
   "language": "python",
   "name": "python3"
  },
  "language_info": {
   "codemirror_mode": {
    "name": "ipython",
    "version": 3
   },
   "file_extension": ".py",
   "mimetype": "text/x-python",
   "name": "python",
   "nbconvert_exporter": "python",
   "pygments_lexer": "ipython3",
   "version": "3.9.13"
  },
  "orig_nbformat": 4,
  "vscode": {
   "interpreter": {
    "hash": "c4bb1ae6d763fbad0d57a28c9a072db53493e05f8095e6d804c8875c1f9d98ec"
   }
  }
 },
 "nbformat": 4,
 "nbformat_minor": 2
}
