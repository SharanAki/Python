{
 "cells": [
  {
   "attachments": {},
   "cell_type": "markdown",
   "metadata": {},
   "source": [
    "<h1>ABSTARCTION"
   ]
  },
  {
   "cell_type": "code",
   "execution_count": 24,
   "metadata": {},
   "outputs": [
    {
     "name": "stdout",
     "output_type": "stream",
     "text": [
      "Hi, I am called Scooby\n"
     ]
    }
   ],
   "source": [
    "class Dog1(object):\n",
    "    \n",
    "    def setName(self,name):\n",
    "        self.name = name\n",
    "        \n",
    "    def greet(self):\n",
    "        print(\"Hi, I am called\",self.name)\n",
    "        \n",
    "if __name__ == '__main__':\n",
    "    dog = Dog1()\n",
    "    dog.setName(\"Scooby\")\n",
    "    dog.greet()"
   ]
  },
  {
   "cell_type": "code",
   "execution_count": 25,
   "metadata": {},
   "outputs": [
    {
     "name": "stdout",
     "output_type": "stream",
     "text": [
      "Hi, I am Scooby, my number is 1, n is 2\n",
      "Hi, I am Snoopy, my number is 2, n is 3\n"
     ]
    }
   ],
   "source": [
    "class Dog(object):\n",
    "    count = 0\n",
    "    n = 1\n",
    "     \n",
    "    def __init__(self,name):\n",
    "        self.name = name\n",
    "        Dog.count += 1\n",
    "        Dog.n += 1\n",
    "    \n",
    "    def greet(self):\n",
    "        print(\"Hi, I am %s, my number is %d, n is %d\"%(self.name,Dog.count,Dog.n))\n",
    "        \n",
    "if __name__ == '__main__':\n",
    "    dog = Dog(\"Scooby\")\n",
    "    dog.greet()\n",
    "    dog = Dog(\"Snoopy\")\n",
    "    dog.greet()\n",
    "        "
   ]
  },
  {
   "attachments": {},
   "cell_type": "markdown",
   "metadata": {},
   "source": [
    "Inheritance"
   ]
  },
  {
   "cell_type": "code",
   "execution_count": 27,
   "metadata": {},
   "outputs": [
    {
     "name": "stdout",
     "output_type": "stream",
     "text": [
      "Woof! I am Scooby, my number is 4\n"
     ]
    }
   ],
   "source": [
    "class BarkingDog(Dog):\n",
    "    \n",
    "    def greet(self):\n",
    "        print(\"Woof! I am %s, my number is %d\" % (self.name, Dog.count))\n",
    "        \n",
    "if __name__ == '__main__':\n",
    "    dog = BarkingDog(\"Scooby\")\n",
    "    dog.greet()\n",
    "    "
   ]
  },
  {
   "cell_type": "code",
   "execution_count": 34,
   "metadata": {},
   "outputs": [
    {
     "name": "stdout",
     "output_type": "stream",
     "text": [
      "Your BMI is 1.914821098264789\n",
      "Thin\n"
     ]
    }
   ],
   "source": [
    "# -*- coding: utf-8 -*-\n",
    "\"\"\"\n",
    "BMI Calculating\n",
    " \n",
    "@author: Dazhuang\n",
    "\"\"\"\n",
    " \n",
    "# (1)\n",
    "class BMI:\n",
    "    def __init__(self, height, weight):\n",
    "        self.bmi = weight / height ** 2\n",
    "    def printBMI(self):\n",
    "        print(\"Your BMI index is {0:.1f} \".format(self.bmi))\n",
    " \n",
    "# if __name__ == \"__main__\":\n",
    "#     h = float(input('Please enter your height(m): '))\n",
    "#     w = float(input('Please input your weight(kg): '))\n",
    "#     x = BMI(h, w)\n",
    "#     x.printBMI()\n",
    " \n",
    "# (2)\n",
    "class ChinaBMI(BMI):\n",
    "    def printBMI(self):\n",
    "        print(\"Your BMI is\",self.bmi)\n",
    "        if self.bmi < 18.5:\n",
    "            print(\"Thin\")\n",
    "        elif self.bmi < 24:\n",
    "            print(\"Normal\")\n",
    "        elif self.bmi < 27:\n",
    "            print(\"Fatter\")\n",
    "        elif self.bmi < 30:\n",
    "            print(\"Obeity\")\n",
    "        else:\n",
    "            print(\"Severe obesity\")\n",
    " \n",
    "if __name__ == \"__main__\":\n",
    "    h = float(input('Please enter your height(m): '))\n",
    "    w = float(input('Please input your weight(kg): '))\n",
    "    x = ChinaBMI(h, w)\n",
    "    x.printBMI()"
   ]
  }
 ],
 "metadata": {
  "kernelspec": {
   "display_name": "Python 3",
   "language": "python",
   "name": "python3"
  },
  "language_info": {
   "codemirror_mode": {
    "name": "ipython",
    "version": 3
   },
   "file_extension": ".py",
   "mimetype": "text/x-python",
   "name": "python",
   "nbconvert_exporter": "python",
   "pygments_lexer": "ipython3",
   "version": "3.9.13"
  },
  "orig_nbformat": 4
 },
 "nbformat": 4,
 "nbformat_minor": 2
}
