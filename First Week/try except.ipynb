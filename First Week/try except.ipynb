{
 "cells": [
  {
   "attachments": {},
   "cell_type": "markdown",
   "metadata": {},
   "source": [
    "<h1>try:\n",
    "\n",
    "except:"
   ]
  },
  {
   "cell_type": "code",
   "execution_count": 3,
   "metadata": {},
   "outputs": [
    {
     "name": "stdout",
     "output_type": "stream",
     "text": [
      "please input digit!\n"
     ]
    }
   ],
   "source": [
    "try:\n",
    "    num1  = int(input(\"Enter first number:\"))\n",
    "    num2 = int(input(\"Enter second number:\"))\n",
    "    print(num1/num2)\n",
    "except ValueError:\n",
    "    print(\"please input digit!\")"
   ]
  },
  {
   "cell_type": "code",
   "execution_count": 7,
   "metadata": {},
   "outputs": [
    {
     "name": "stdout",
     "output_type": "stream",
     "text": [
      "Second number can't be zero!\n"
     ]
    }
   ],
   "source": [
    "try:\n",
    "    num1  = int(input(\"Enter first number:\"))\n",
    "    num2 = int(input(\"Enter second number:\"))\n",
    "    print(num1/num2)\n",
    "except ZeroDivisionError:\n",
    "    print(\"Second number can't be zero!\")\n"
   ]
  },
  {
   "cell_type": "code",
   "execution_count": 9,
   "metadata": {},
   "outputs": [
    {
     "name": "stdout",
     "output_type": "stream",
     "text": [
      "0.6666666666666666\n",
      "OK!\n"
     ]
    }
   ],
   "source": [
    "try:\n",
    "    num1  = int(input(\"Enter first number:\"))\n",
    "    num2 = int(input(\"Enter second number:\"))\n",
    "    print(num1/num2)\n",
    "except ValueError:\n",
    "    print(\"please input digit!\")\n",
    "except ZeroDivisionError:\n",
    "    print(\"Second number can't be zero!\")\n",
    "else:\n",
    "    print(\"OK!\")"
   ]
  },
  {
   "attachments": {},
   "cell_type": "markdown",
   "metadata": {},
   "source": [
    "<h2> File opening error!"
   ]
  },
  {
   "cell_type": "code",
   "execution_count": 12,
   "metadata": {},
   "outputs": [
    {
     "name": "stdout",
     "output_type": "stream",
     "text": [
      "O were my love yon Lilac fair,  \n",
      "  Wi' purple blossoms to the Spring,\n",
      "And I, a bird to shelter there,  \n",
      "  When wearied on my little wing!\n",
      "How I wad mourn when it was torn         \n",
      "  By Autumn wild, and Winter rude!\n",
      "But I wad sing on wanton wing,  \n",
      "  When youthfu' May its bloom renew'd. \n",
      "O gin my love were yon red rose,  \n",
      "  That grows upon the castle wa';    \n",
      "And I myself a drap o' dew,  \n",
      "  Into her bonie breast to fa'!\n",
      "O there, beyond expression blest,  \n",
      "  I'd feast on beauty a' the night;\n",
      "Seal'd on her silk-saft faulds to rest,\n",
      "  Till fley'd awa by Phoebus' light!"
     ]
    }
   ],
   "source": [
    "try:\n",
    "    f = open('data1.txt')   # -> OR USE  with open('data1.txt') as f:\n",
    "    for line in f:\n",
    "        print(line,end='')\n",
    "except IOError:\n",
    "    print('Cannot open the file!')\n",
    "finally:\n",
    "    f.close()"
   ]
  }
 ],
 "metadata": {
  "kernelspec": {
   "display_name": "Python 3",
   "language": "python",
   "name": "python3"
  },
  "language_info": {
   "codemirror_mode": {
    "name": "ipython",
    "version": 3
   },
   "file_extension": ".py",
   "mimetype": "text/x-python",
   "name": "python",
   "nbconvert_exporter": "python",
   "pygments_lexer": "ipython3",
   "version": "3.9.13"
  },
  "orig_nbformat": 4,
  "vscode": {
   "interpreter": {
    "hash": "c4bb1ae6d763fbad0d57a28c9a072db53493e05f8095e6d804c8875c1f9d98ec"
   }
  }
 },
 "nbformat": 4,
 "nbformat_minor": 2
}
