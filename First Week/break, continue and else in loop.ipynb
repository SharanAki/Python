{
 "cells": [
  {
   "cell_type": "code",
   "execution_count": 1,
   "metadata": {},
   "outputs": [
    {
     "name": "stdout",
     "output_type": "stream",
     "text": [
      "2 is a prime number\n",
      "3 is a prime number\n",
      "4 equals 2 * 2\n",
      "5 is a prime number\n",
      "6 equals 2 * 3\n",
      "7 is a prime number\n",
      "8 equals 2 * 4\n",
      "9 equals 3 * 3\n"
     ]
    }
   ],
   "source": [
    "for n in range(2, 10):\n",
    "    for x in range(2, n):\n",
    "        if n % x == 0:\n",
    "            print(n, 'equals', x, '*', n//x)\n",
    "            break\n",
    "    else:\n",
    "        # loop fell through without finding a factor\n",
    "        print(n, 'is a prime number')"
   ]
  },
  {
   "cell_type": "code",
   "execution_count": 2,
   "metadata": {},
   "outputs": [
    {
     "name": "stdout",
     "output_type": "stream",
     "text": [
      "i: 6 sum: 15\n"
     ]
    }
   ],
   "source": [
    "aa = 0\n",
    "i = 1\n",
    "\n",
    "while True:\n",
    "    aa += i\n",
    "    i += 1\n",
    "    if aa > 10:\n",
    "        break\n",
    "print(\"i:\", i, \"sum:\", aa)\n"
   ]
  },
  {
   "cell_type": "code",
   "execution_count": 22,
   "metadata": {},
   "outputs": [
    {
     "name": "stdout",
     "output_type": "stream",
     "text": [
      "i: 1 sum: 1\n",
      "i: 2 sum: 3\n"
     ]
    }
   ],
   "source": [
    "# Break loop\n",
    "aa = 0\n",
    "i = 1\n",
    "\n",
    "while i <= 5:\n",
    "    aa += i\n",
    "    \n",
    "    if i == 3:\n",
    "        break\n",
    "    print(\"i:\", i, \"sum:\", aa)\n",
    "    i += 1"
   ]
  },
  {
   "cell_type": "code",
   "execution_count": 27,
   "metadata": {},
   "outputs": [
    {
     "name": "stdout",
     "output_type": "stream",
     "text": [
      "i: 2 sum: 1\n",
      "i: 4 sum: 6\n",
      "i: 5 sum: 10\n",
      "i: 6 sum: 15\n"
     ]
    }
   ],
   "source": [
    "#continue loop\n",
    "\n",
    "a = 0\n",
    "i = 1\n",
    "\n",
    "while i <= 5:\n",
    "    a += i\n",
    "    i +=1\n",
    "    if i ==3:\n",
    "        continue\n",
    "    print(\"i:\" ,i , \"sum:\", a)"
   ]
  },
  {
   "cell_type": "code",
   "execution_count": 13,
   "metadata": {},
   "outputs": [
    {
     "name": "stdout",
     "output_type": "stream",
     "text": [
      "[2, 3, 5, 7, 11, 13, 17, 19, 23, 29, 31, 37, 41, 43, 47, 53, 59, 61, 67, 71, 73, 79, 83, 89, 97]\n"
     ]
    }
   ],
   "source": [
    "# Output the prime number in range from 2 to 100\n",
    "primee = []\n",
    "for i in range(2, 100):\n",
    "    for j in range(2, i):\n",
    "        if i % j == 0:\n",
    "            break\n",
    "    else:\n",
    "        primee.append(i)\n",
    "print(primee)"
   ]
  },
  {
   "cell_type": "code",
   "execution_count": 3,
   "metadata": {},
   "outputs": [
    {
     "name": "stdout",
     "output_type": "stream",
     "text": [
      "[2, 3, 5, 7, 11, 13, 17, 19, 23, 29, 31, 37, 41, 43, 47, 53, 59, 61, 67, 71]\n"
     ]
    }
   ],
   "source": [
    "#function to get n prime numbers\n",
    "def get_primes(n):\n",
    "    primes = []\n",
    "    i = 2\n",
    "    while len(primes) < n:\n",
    "        for p in primes:\n",
    "            if i % p == 0:\n",
    "                break\n",
    "        else:\n",
    "            primes.append(i)\n",
    "        i += 1\n",
    "    return primes\n",
    "\n",
    "print(get_primes(20))"
   ]
  }
 ],
 "metadata": {
  "kernelspec": {
   "display_name": "Python 3",
   "language": "python",
   "name": "python3"
  },
  "language_info": {
   "codemirror_mode": {
    "name": "ipython",
    "version": 3
   },
   "file_extension": ".py",
   "mimetype": "text/x-python",
   "name": "python",
   "nbconvert_exporter": "python",
   "pygments_lexer": "ipython3",
   "version": "3.9.13"
  },
  "orig_nbformat": 4,
  "vscode": {
   "interpreter": {
    "hash": "c4bb1ae6d763fbad0d57a28c9a072db53493e05f8095e6d804c8875c1f9d98ec"
   }
  }
 },
 "nbformat": 4,
 "nbformat_minor": 2
}
