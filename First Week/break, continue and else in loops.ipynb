{
 "cells": [
  {
   "cell_type": "code",
   "execution_count": 29,
   "metadata": {},
   "outputs": [
    {
     "name": "stdout",
     "output_type": "stream",
     "text": [
      "i: 6 sum: 15\n"
     ]
    }
   ],
   "source": [
    "aa = 0\n",
    "i = 1\n",
    "\n",
    "while True:\n",
    "    aa += i\n",
    "    i += 1\n",
    "    if aa > 10:\n",
    "        break\n",
    "print(\"i:\", i, \"sum:\", aa)\n"
   ]
  },
  {
   "cell_type": "code",
   "execution_count": 30,
   "metadata": {},
   "outputs": [
    {
     "name": "stdout",
     "output_type": "stream",
     "text": [
      "i: 1 sum: 1\n",
      "i: 2 sum: 3\n"
     ]
    }
   ],
   "source": [
    "# Break loop\n",
    "aa = 0\n",
    "i = 1\n",
    "\n",
    "while i <= 5:\n",
    "    aa += i\n",
    "    \n",
    "    if i == 3:\n",
    "        break\n",
    "    print(\"i:\", i, \"sum:\", aa)\n",
    "    i += 1"
   ]
  },
  {
   "cell_type": "code",
   "execution_count": 31,
   "metadata": {},
   "outputs": [
    {
     "name": "stdout",
     "output_type": "stream",
     "text": [
      "i: 2 sum: 1\n",
      "i: 4 sum: 6\n",
      "i: 5 sum: 10\n",
      "i: 6 sum: 15\n"
     ]
    }
   ],
   "source": [
    "#continue loop\n",
    "\n",
    "a = 0\n",
    "i = 1\n",
    "\n",
    "while i <= 5:\n",
    "    a += i\n",
    "    i +=1\n",
    "    if i ==3:\n",
    "        continue\n",
    "    print(\"i:\" ,i , \"sum:\", a)"
   ]
  },
  {
   "attachments": {},
   "cell_type": "markdown",
   "metadata": {},
   "source": [
    "<h1>Prime Number"
   ]
  },
  {
   "cell_type": "code",
   "execution_count": 28,
   "metadata": {},
   "outputs": [
    {
     "name": "stdout",
     "output_type": "stream",
     "text": [
      "2 is a prime number\n",
      "3 is a prime number\n",
      "4 equals 2 * 2\n",
      "5 is a prime number\n",
      "6 equals 2 * 3\n",
      "7 is a prime number\n",
      "8 equals 2 * 4\n",
      "9 equals 3 * 3\n"
     ]
    }
   ],
   "source": [
    "for n in range(2, 10):\n",
    "    for x in range(2, n):\n",
    "        if n % x == 0:\n",
    "            print(n, 'equals', x, '*', n//x)\n",
    "            break\n",
    "    else:\n",
    "        # loop fell through without finding a factor\n",
    "        print(n, 'is a prime number')"
   ]
  },
  {
   "cell_type": "code",
   "execution_count": 2,
   "metadata": {},
   "outputs": [
    {
     "name": "stdout",
     "output_type": "stream",
     "text": [
      "[2, 3, 5, 7, 11, 13, 17, 19, 23, 29, 31, 37, 41, 43, 47, 53, 59, 61, 67, 71, 73, 79, 83, 89, 97]\n"
     ]
    }
   ],
   "source": [
    "# Output the prime number in range from 2 to 100\n",
    "prime = []\n",
    "for i in range(2,100):\n",
    "    for j in range(2, i):\n",
    "        if i % j == 0:\n",
    "            break\n",
    "    else:\n",
    "        prime.append(i)\n",
    "print(prime)"
   ]
  },
  {
   "cell_type": "code",
   "execution_count": 46,
   "metadata": {},
   "outputs": [
    {
     "name": "stdout",
     "output_type": "stream",
     "text": [
      "[2, 3, 5, 7, 11]\n"
     ]
    }
   ],
   "source": [
    "#function to get n prime numbers\n",
    "def get_primes(n):\n",
    "    primes = []\n",
    "    i = 2\n",
    "    \n",
    "    while len(primes) < n:\n",
    "        for p in primes:\n",
    "            if i % p == 0:\n",
    "                break\n",
    "            \n",
    "        else:\n",
    "            primes.append(i)\n",
    "        i += 1\n",
    "    return primes\n",
    "n = int(input('Number:'))\n",
    "print(get_primes(n))"
   ]
  },
  {
   "attachments": {},
   "cell_type": "markdown",
   "metadata": {},
   "source": [
    "<H1>Matching Randomly generated number</h1>"
   ]
  },
  {
   "cell_type": "code",
   "execution_count": 48,
   "metadata": {},
   "outputs": [
    {
     "name": "stdout",
     "output_type": "stream",
     "text": [
      "33\n",
      "Too big!\n"
     ]
    }
   ],
   "source": [
    "# Matching randomly generted number\n",
    "\n",
    "from random import randint\n",
    "\n",
    "x = randint(0, 300)\n",
    "print(x) # the number to be guess\n",
    "digit = int(input(\"Please input a number between 0~300:\"))\n",
    "if digit == x:\n",
    "    print('Bingo!')\n",
    "elif digit > x:\n",
    "    print('Too big!')\n",
    "else:\n",
    "    print('Too small!')\n",
    "    "
   ]
  },
  {
   "cell_type": "code",
   "execution_count": 35,
   "metadata": {},
   "outputs": [
    {
     "name": "stdout",
     "output_type": "stream",
     "text": [
      "Too small!\n",
      "Too small!\n",
      "Too big!\n",
      "Too big!\n",
      "Too big!\n"
     ]
    }
   ],
   "source": [
    "from random import randint\n",
    "#generating random number to user anf giving 5 chances to guess\n",
    "\n",
    "n = randint(0,10)\n",
    "for count in range(5):\n",
    "    digit = int(input(\"Please input a number between 0~10:\"))\n",
    "    if digit == n:\n",
    "        print('Bingo!')\n",
    "        break\n",
    "    elif digit > n:\n",
    "        print('Too big!')\n",
    "    else:\n",
    "        print(\"Too small!\")\n"
   ]
  },
  {
   "cell_type": "code",
   "execution_count": 3,
   "metadata": {},
   "outputs": [
    {
     "name": "stdout",
     "output_type": "stream",
     "text": [
      "Too small!\n",
      "y\n",
      "Too small!\n",
      "y\n",
      "Too small!\n",
      "y\n",
      "Too big!\n",
      "y\n",
      "Bingo!\n"
     ]
    }
   ],
   "source": [
    "from random import randint\n",
    "#Exit option in guessing number\n",
    "\n",
    "n = randint(0,10)\n",
    "go ='y'\n",
    "while go == 'y':\n",
    "    digit = int(input(\"Please input a number between 0~10:\"))\n",
    "    if digit == n:\n",
    "        print('Bingo!')\n",
    "        break\n",
    "    elif digit > n:\n",
    "        print('Too big!')\n",
    "    else:\n",
    "        print(\"Too small!\")\n",
    "    go = input(\"Do you want to continue? (y/n)\")\n",
    "    print(go)\n",
    "else:\n",
    "    print('Good Bye!')"
   ]
  },
  {
   "attachments": {},
   "cell_type": "markdown",
   "metadata": {},
   "source": [
    "<H2>N even numbers\n"
   ]
  },
  {
   "cell_type": "code",
   "execution_count": 3,
   "metadata": {},
   "outputs": [
    {
     "name": "stdout",
     "output_type": "stream",
     "text": [
      "[2, 4, 6, 8, 10]\n"
     ]
    }
   ],
   "source": [
    "# Function to get n even numbers\n",
    "\n",
    "def get_even(n):\n",
    "    even = []\n",
    "    i = 1\n",
    "    while len(even) < n:\n",
    "        if i % 2 == 0:\n",
    "            even.append(i)\n",
    "        i += 1\n",
    "    return even\n",
    "print(get_even(5))\n"
   ]
  }
 ],
 "metadata": {
  "kernelspec": {
   "display_name": "Python 3",
   "language": "python",
   "name": "python3"
  },
  "language_info": {
   "codemirror_mode": {
    "name": "ipython",
    "version": 3
   },
   "file_extension": ".py",
   "mimetype": "text/x-python",
   "name": "python",
   "nbconvert_exporter": "python",
   "pygments_lexer": "ipython3",
   "version": "3.9.13 (tags/v3.9.13:6de2ca5, May 17 2022, 16:36:42) [MSC v.1929 64 bit (AMD64)]"
  },
  "orig_nbformat": 4,
  "vscode": {
   "interpreter": {
    "hash": "c4bb1ae6d763fbad0d57a28c9a072db53493e05f8095e6d804c8875c1f9d98ec"
   }
  }
 },
 "nbformat": 4,
 "nbformat_minor": 2
}
