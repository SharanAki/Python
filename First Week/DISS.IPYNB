{
 "cells": [
  {
   "attachments": {},
   "cell_type": "markdown",
   "metadata": {},
   "source": [
    "<H2>Control structure & function exercises"
   ]
  },
  {
   "attachments": {},
   "cell_type": "markdown",
   "metadata": {},
   "source": [
    "<h1 style=\"color:yellow;font-size:12px;\">1．The Body Mass Index (BMI) is an internationally accepted standard for measuring the degree of obesity and health of a person. The formula is BMI = the weight/height (kg/m2). The adult BMI value in China is defined as:\n",
    "\n",
    "Too thin: < 18.5 \n",
    "\n",
    "Normal: 18.5-23.9 \n",
    "\n",
    "Overweight: 24-27.9 \n",
    "\n",
    "Fat: >= 28 \n",
    "\n",
    "Please enter the weight and height, and output the corresponding BMI value and weight obesity judgment result. \n",
    "\n",
    "[input sample] \n",
    "\n",
    "60,1.6 \n",
    "\n",
    "[output sample] \n",
    "\n",
    "Your BMI is 23.4 \n",
    "\n",
    "normal  \n",
    "\n",
    "[tips] \n",
    "\n",
    "The weight and height can be got by the input statement of \"weight, height = eval(input())\".\n",
    "\n",
    "  [Reference code]"
   ]
  },
  {
   "cell_type": "code",
   "execution_count": null,
   "metadata": {},
   "outputs": [],
   "source": [
    "weight, height = eval(input())\n",
    " \n",
    "bmi = weight / height ** 2\n",
    "print(\"Your BMI is {0:.1f}\".format(bmi))\n",
    "if bmi < 18.5:\n",
    "      print(\"too thin\")\n",
    "elif bmi < 24:\n",
    "      print(\"normal\")\n",
    "elif bmi < 27.9:\n",
    "      print(\"overweight\")\n",
    "else:\n",
    "      print(\"fat\")"
   ]
  },
  {
   "attachments": {},
   "cell_type": "markdown",
   "metadata": {},
   "source": [
    "2. Convert the Fahrenheit temperature to the Celsius temperature according to the formula  C= 5/9×(F-32). Program and output a comparison table of the Fahrenheit(0~300) and the corresponding Celsius temperature(output every 20 degrees)."
   ]
  },
  {
   "cell_type": "code",
   "execution_count": 13,
   "metadata": {},
   "outputs": [
    {
     "name": "stdout",
     "output_type": "stream",
     "text": [
      "0 f = -18 c,20 f = -7 c,40 f = 4 c,60 f = 16 c,80 f = 27 c,100 f = 38 c,120 f = 49 c,140 f = 60 c,160 f = 71 c,180 f = 82 c,200 f = 93 c,220 f = 104 c,240 f = 116 c,260 f = 127 c,280 f = 138 c,300 f = 149 c,"
     ]
    }
   ],
   "source": [
    "for f in range(0, 301, 20):\n",
    "    c = 5 / 9 * (f - 32)\n",
    "    print(\"{} f = {:.0f} c\".format(f, c),end=',')"
   ]
  },
  {
   "attachments": {},
   "cell_type": "markdown",
   "metadata": {},
   "source": [
    "3. Kakutani is a famous scholar in Japan. He proposed a conjecture: for a positive integer n, divide by 2 for even numbers, multiply by 3 plus 1 for odd numbers, and get a new one. Continue to calculate according to the previous two rules, the result obtained after several times must be 1. Enter any positive integer and output the calculation process"
   ]
  },
  {
   "cell_type": "code",
   "execution_count": 7,
   "metadata": {},
   "outputs": [
    {
     "name": "stdout",
     "output_type": "stream",
     "text": [
      "5*3+1=16\n",
      "16/2=8\n",
      "8/2=4\n",
      "4/2=2\n",
      "2/2=1\n"
     ]
    }
   ],
   "source": [
    "n = int(input())\n",
    "while n != 1:\n",
    "    if n % 2 == 0:\n",
    "        print(\"{}/2={}\".format(n, n//2))\n",
    "        n //= 2                       \n",
    "    else:\n",
    "        print(\"{}*3+1={}\".format(n, 3*n+1))\n",
    "        n = 3*n+1"
   ]
  },
  {
   "attachments": {},
   "cell_type": "markdown",
   "metadata": {},
   "source": [
    "Enter n, use the recursion method (for example, derive the latter term from the relationship between the preceding items, it is a one-loop question) and caculate the sum of 1+2!+3!+...+n! and output the result.\n"
   ]
  },
  {
   "cell_type": "code",
   "execution_count": 9,
   "metadata": {},
   "outputs": [
    {
     "name": "stdout",
     "output_type": "stream",
     "text": [
      "4037913\n"
     ]
    }
   ],
   "source": [
    "n = int(input())\n",
    "s = term = 1\n",
    " \n",
    "for i in range(2, n+1):\n",
    "    term *= i\n",
    "    s += term\n",
    "print(s)"
   ]
  },
  {
   "attachments": {},
   "cell_type": "markdown",
   "metadata": {},
   "source": [
    "5. Program to solve how many non-repetitive three-digit numbers can be composed of these four numbers of 1-4, and output these numbers in ascending order."
   ]
  },
  {
   "cell_type": "code",
   "execution_count": 12,
   "metadata": {},
   "outputs": [
    {
     "name": "stdout",
     "output_type": "stream",
     "text": [
      "123,124,132,134,142,143,213,214,231,234,241,243,312,314,321,324,341,342,412,413,421,423,431,432,"
     ]
    }
   ],
   "source": [
    "for i in range(1, 5):\n",
    "    for j in range(1, 5):\n",
    "        for k in range(1, 5):\n",
    "            if i != k and i != j and j != k:\n",
    "                print(100*i+10*j+k, end=',')\n",
    "\n"
   ]
  },
  {
   "attachments": {},
   "cell_type": "markdown",
   "metadata": {},
   "source": [
    "6. Verify the proposition: If a three-digit integer is a multiple of 37, then the two other rotated three-digit numbers of the number are also a multiples of 37 (for example, 123 to 231 and 312).\n",
    "\n"
   ]
  },
  {
   "cell_type": "code",
   "execution_count": 21,
   "metadata": {},
   "outputs": [
    {
     "name": "stdout",
     "output_type": "stream",
     "text": [
      "111 110 1\n",
      "111 100 11\n",
      "481 480 1\n",
      "814 800 14\n",
      "851 850 1\n",
      "518 500 18\n",
      "It's a true proposition.\n"
     ]
    }
   ],
   "source": [
    "for num in range(100, 200):\n",
    "    if num % 37 == 0:\n",
    "        num_new_1 = num % 100 *10 + num // 100\n",
    "        print(num_new_1 , num % 100 *10, num // 100 )\n",
    "        num_new_2 = num % 10 * 100 + num // 10\n",
    "        print(num_new_2, num % 10 * 100 , num // 10)\n",
    "        if num_new_1 % 37 != 0 or num_new_1 % 37 != 0:\n",
    "            print(\"It's a false proposition.\")\n",
    "            break\n",
    "else:\n",
    "    print(\"It's a true proposition.\")"
   ]
  },
  {
   "attachments": {},
   "cell_type": "markdown",
   "metadata": {},
   "source": [
    "If a number is equal to the sum of its factors, the number is called the perfect number, for example, 6, because 6=1+2+3. Program and print all the perfect numbers within 1000."
   ]
  },
  {
   "cell_type": "code",
   "execution_count": 22,
   "metadata": {},
   "outputs": [
    {
     "name": "stdout",
     "output_type": "stream",
     "text": [
      "\n",
      " 6  its factors are 1 2 3 \n",
      " 28  its factors are 1 2 4 7 14 \n",
      " 496  its factors are 1 2 4 8 16 31 62 124 248 "
     ]
    }
   ],
   "source": [
    "#-*-coding:utf-8-*-\n",
    "for i in range(1, 1001):\n",
    "   s = 0   # pay attention to the position \n",
    "   for j in range(1, i):\n",
    "       if i%j == 0:\n",
    "            s += j\n",
    "   if s == i:\n",
    "       print(\"\\n\", i, \" \", end = \"\")\n",
    "       print(\"its factors are \", end = \"\")\n",
    "       for j in range(1, i):\n",
    "          if i%j == 0:\n",
    "              print(j, end = \" \")"
   ]
  },
  {
   "attachments": {},
   "cell_type": "markdown",
   "metadata": {},
   "source": [
    "8. Verify one of the Goldbach Conjecture: the positive integer number (greater than or equal to 4) within 2000 can be decomposed into the sum of two prime numbers. Every even number's expression forming is such as: 4=2+2, print 6 expressions per line."
   ]
  },
  {
   "cell_type": "code",
   "execution_count": null,
   "metadata": {},
   "outputs": [],
   "source": [
    "import math\n",
    " \n",
    "def prime(x):\n",
    "    if x == 1:\n",
    "        return False\n",
    "    n = int(math.sqrt(x))\n",
    "    for i in range(2, n+1):\n",
    "        if x % i == 0:\n",
    "            return False\n",
    "    return True\n",
    " \n",
    "def GC(n):\n",
    "    k = 3      \n",
    "    while k < n:\n",
    "         t = n - k\n",
    "         if t < k:\n",
    "             break\n",
    "         if prime(k) and prime(t):\n",
    "             return k, t\n",
    "         k += 2\n",
    " \n",
    "n = int(input())\n",
    "if n > 4:\n",
    "    a,b = GC(n)\n",
    "    print(\"{}={}+{}\".format(n, a, b))\n",
    "elif n == 4:\n",
    "    print(\"{}={}+{}\".format(4, 2, 2))"
   ]
  },
  {
   "attachments": {},
   "cell_type": "markdown",
   "metadata": {},
   "source": [
    "9. Write a program to let user input the number of apples and the unit price and then calculate the total price.\n",
    "Use try-except statement to enable a program to handle non-numeric input. In case of non-numeric input, your program shall print error message and allow user to input again until a valid number. The program shall calculate the result upon a valid input is provided. The following is the expected result of your program."
   ]
  },
  {
   "cell_type": "code",
   "execution_count": 25,
   "metadata": {},
   "outputs": [
    {
     "name": "stdout",
     "output_type": "stream",
     "text": [
      "The price is:  25.0\n"
     ]
    }
   ],
   "source": [
    "while True:\n",
    "    try:\n",
    "        count = int(input(\"Enter count: \"))\n",
    "        price = float(input(\"Enter price for each one: \"))\n",
    "        Pay = count * price\n",
    "        print(\"The price is: \", Pay)\n",
    "        break\n",
    "    except ValueError:\n",
    "        print('Error, please enter numeric one. ')"
   ]
  }
 ],
 "metadata": {
  "kernelspec": {
   "display_name": "Python 3",
   "language": "python",
   "name": "python3"
  },
  "language_info": {
   "codemirror_mode": {
    "name": "ipython",
    "version": 3
   },
   "file_extension": ".py",
   "mimetype": "text/x-python",
   "name": "python",
   "nbconvert_exporter": "python",
   "pygments_lexer": "ipython3",
   "version": "3.9.13"
  },
  "orig_nbformat": 4,
  "vscode": {
   "interpreter": {
    "hash": "c4bb1ae6d763fbad0d57a28c9a072db53493e05f8095e6d804c8875c1f9d98ec"
   }
  }
 },
 "nbformat": 4,
 "nbformat_minor": 2
}
