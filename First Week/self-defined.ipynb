{
 "cells": [
  {
   "cell_type": "code",
   "execution_count": 2,
   "metadata": {},
   "outputs": [
    {
     "name": "stdout",
     "output_type": "stream",
     "text": [
      "x is true\n",
      "OK\n"
     ]
    }
   ],
   "source": [
    "def f(x = True):\n",
    "    if x:\n",
    "        print(\"x is true\")\n",
    "    print(\"OK\")\n",
    "    \n",
    "f()"
   ]
  },
  {
   "cell_type": "code",
   "execution_count": 7,
   "metadata": {},
   "outputs": [
    {
     "name": "stdout",
     "output_type": "stream",
     "text": [
      "1 and y both correct\n",
      "1 is OK\n",
      "9 is OK\n"
     ]
    }
   ],
   "source": [
    "def lota(x, y = True):\n",
    "    if y:\n",
    "        print(x,'and y both correct')\n",
    "    print(x,\"is OK\")\n",
    "    \n",
    "lota(1)\n",
    "lota(9,False)"
   ]
  },
  {
   "cell_type": "code",
   "execution_count": 15,
   "metadata": {},
   "outputs": [
    {
     "name": "stdout",
     "output_type": "stream",
     "text": [
      "6\n",
      "20\n",
      "30\n"
     ]
    }
   ],
   "source": [
    "def addme2me(x):\n",
    "    return x+x\n",
    "def sui(f,y):\n",
    "    print(f(y))\n",
    "sui(addme2me,3)\n",
    "\n",
    "r = lambda x : x + x    # LAMBDA AS FUNCTION\n",
    "print(r(10))\n",
    "\n",
    "op = lambda x, y : x + y\n",
    "print(op(10,20))\n"
   ]
  }
 ],
 "metadata": {
  "kernelspec": {
   "display_name": "Python 3",
   "language": "python",
   "name": "python3"
  },
  "language_info": {
   "codemirror_mode": {
    "name": "ipython",
    "version": 3
   },
   "file_extension": ".py",
   "mimetype": "text/x-python",
   "name": "python",
   "nbconvert_exporter": "python",
   "pygments_lexer": "ipython3",
   "version": "3.9.13 (tags/v3.9.13:6de2ca5, May 17 2022, 16:36:42) [MSC v.1929 64 bit (AMD64)]"
  },
  "orig_nbformat": 4,
  "vscode": {
   "interpreter": {
    "hash": "c4bb1ae6d763fbad0d57a28c9a072db53493e05f8095e6d804c8875c1f9d98ec"
   }
  }
 },
 "nbformat": 4,
 "nbformat_minor": 2
}
